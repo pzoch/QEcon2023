{
 "cells": [
  {
   "cell_type": "markdown",
   "metadata": {},
   "source": [
    "Today we will talk about optimization.\n",
    "We will focus on unconstrained optimization in one dimension.\n",
    "\n",
    "To fix ideas we will deal with minimization (unless stated otherwise):\n",
    "\n",
    "$$\\min_x f(x)$$\n"
   ]
  },
  {
   "cell_type": "code",
   "execution_count": null,
   "metadata": {},
   "outputs": [],
   "source": [
    "using Pkg\n",
    "Pkg.activate(\"..\") ## because we have environment files in the parent directory\n",
    "Pkg.instantiate() ## to download all missing packages\n"
   ]
  },
  {
   "cell_type": "code",
   "execution_count": null,
   "metadata": {},
   "outputs": [],
   "source": [
    "# load some packages we will need today\n",
    "using Plots, Calculus, Optim, ForwardDiff"
   ]
  },
  {
   "cell_type": "markdown",
   "metadata": {},
   "source": [
    "### Grid search\n",
    "Just evaluate the function on some grid and pick the point that has the largest/the smallest value."
   ]
  },
  {
   "cell_type": "code",
   "execution_count": null,
   "metadata": {},
   "outputs": [],
   "source": [
    "# test function\n",
    "f(x) = x.^2.0 .+ 2.11 .* x .+ 0.98  #notice the dots! \n",
    "\n",
    "# plot it to see what happens\n",
    "plot(f, -5, 5, label=\"f(x)\", legend=:topleft, title = \"our amazing function\")"
   ]
  },
  {
   "cell_type": "code",
   "execution_count": null,
   "metadata": {},
   "outputs": [],
   "source": [
    "grid_for_evaluation = -5:0.1:5 # this is the grid we will use to evaluate the function\n",
    "typeof(grid_for_evaluation) # what is the type of this thing?"
   ]
  },
  {
   "cell_type": "code",
   "execution_count": null,
   "metadata": {},
   "outputs": [],
   "source": [
    "vector_of_points = collect(grid_for_evaluation) # convert the range to a vector -- not needed for much, but you might want to extract the point"
   ]
  },
  {
   "cell_type": "code",
   "execution_count": null,
   "metadata": {},
   "outputs": [],
   "source": [
    "# evaluate\n",
    "\n",
    "function_values = f(grid_for_evaluation) # evaluate the function on the grid"
   ]
  },
  {
   "cell_type": "code",
   "execution_count": null,
   "metadata": {},
   "outputs": [],
   "source": [
    "val_min, arg_min_ind = findmin(function_values)\n",
    "arg_min = grid_for_evaluation[arg_min_ind] \n",
    "\n",
    "\n",
    "# more compactly\n",
    "arg_min_2 = argmin(f, grid_for_evaluation) \n",
    "\n",
    "println(\"The minimum is at (?) $arg_min with value $val_min\")"
   ]
  },
  {
   "cell_type": "markdown",
   "metadata": {},
   "source": [
    "### Bracketing methods\n",
    "As you can see, the above is not super precise. We can add more and more grid points, but there are better methods. If we know an optimum lies in some interval, we can use bracketing methods."
   ]
  },
  {
   "cell_type": "code",
   "execution_count": null,
   "metadata": {},
   "outputs": [],
   "source": [
    "function simple_bracket(f,a,b,c; ε=10e-6, maxcounter = 100, verbose = false)\n",
    "    # this algorithm is from Judd (1988), page 95\n",
    "\n",
    "    counter = 1\n",
    "    if (f(a) > f(b) && f(c) > f(b)) && (a < b < c)\n",
    "        \n",
    "\n",
    "        guesses = []\n",
    "        # try with a new point d \n",
    "        while c - a > ε\n",
    "\n",
    "            if counter > maxcounter\n",
    "                println(\"Maximum number of iterations ($maxcounter) reached\")\n",
    "                break\n",
    "            end\n",
    "\n",
    "            if (b - a < c - b)\n",
    "                d = (b+c)/2\n",
    "            else\n",
    "                d = (a+b)/2\n",
    "            end\n",
    "                \n",
    "            guesses = push!(guesses,d)\n",
    "            \n",
    "            if verbose\n",
    "                println(\"Iteration = $counter\")    \n",
    "                println(\"Point d = [$d]\")    \n",
    "                println(\"\")\n",
    "            end\n",
    "\n",
    "\n",
    "            counter += 1\n",
    "            if ((d < b) && f(d) > f(b))\n",
    "                a = d\n",
    "                b = b\n",
    "                c = c\n",
    "            elseif ((d < b) && f(d) < f(b))\n",
    "                a = a\n",
    "                b = d\n",
    "                c = b\n",
    "            elseif ((d > b) && f(d) < f(b))\n",
    "                a = b\n",
    "                b = d\n",
    "                c = c\n",
    "            else\n",
    "                a = a\n",
    "                b = b\n",
    "                c = d\n",
    "            end\n",
    "\n",
    "            \n",
    "        \n",
    "        end\n",
    "            println(\"Minimum = $(f(c)) at $c\")\n",
    "            return (argmin = c, val = f(c), points = guesses, iteration = counter)\n",
    "\n",
    "        \n",
    "        \n",
    "    else \n",
    "        println(\"The condition a < b < c and f(a), f(c) > f(b) is not satisfied. Try with different values.\")\n",
    "    end\n",
    "end"
   ]
  },
  {
   "cell_type": "code",
   "execution_count": null,
   "metadata": {},
   "outputs": [],
   "source": [
    "outs = simple_bracket(f,-4,0,4;verbose=true)"
   ]
  },
  {
   "cell_type": "code",
   "execution_count": null,
   "metadata": {},
   "outputs": [],
   "source": [
    "outs"
   ]
  },
  {
   "cell_type": "code",
   "execution_count": null,
   "metadata": {},
   "outputs": [],
   "source": [
    "myscatter = scatter(;xlim = [-5,0],ylim = [0,3])\n",
    "animation = @animate for (ind,point) in enumerate(outs.points)\n",
    "    scatter!(myscatter,[point], [f(point)], alpha = 1 - ind/length(outs.points),ms = 5,color = :blue,lab=\"\")\n",
    "end\n",
    "\n",
    "gif(animation,fps = 10)"
   ]
  },
  {
   "cell_type": "code",
   "execution_count": null,
   "metadata": {},
   "outputs": [],
   "source": [
    "function newton(f,f′,f′′,x0; ε=10e-6, δ=10e-6, maxcounter = 100, verbose = false)\n",
    "    # this algorithm is from Judd (1988), page 98\n",
    "    x_old = x0\n",
    "    x_new = 2*abs(x0) + 1\n",
    "    counter = 1\n",
    "    guesses = []\n",
    "\n",
    "    while ((abs(f′(x_old)) > δ) || (abs(x_new-x_old) > ε * (1+abs(x_old))))\n",
    "        guesses = push!(guesses,x_old)\n",
    "        if verbose\n",
    "            println(\"Iteration = $counter\")    \n",
    "            println(\"Point = $x_old\")    \n",
    "            println(\"Value = $(f(x_old))\")  \n",
    "            println(\"Derivative = $(f′(x_old))\")  \n",
    "            println(\"\")\n",
    "        end\n",
    "\n",
    "\n",
    "        if counter > maxcounter\n",
    "            println(\"Maximum number of iterations ($maxcounter) reached\")\n",
    "            break\n",
    "        end\n",
    "\n",
    "        counter += 1\n",
    "        x_old = x_new\n",
    "        x_new = x_old - f′(x_old)/f′′(x_old)\n",
    "        \n",
    "        \n",
    "    end\n",
    "\n",
    "    return (argmin = x_new, val = f(x_new), derivative  = f′(x_new), points = guesses, iteration = counter)\n",
    "    end"
   ]
  },
  {
   "cell_type": "code",
   "execution_count": null,
   "metadata": {},
   "outputs": [],
   "source": [
    "#redefine function\n",
    "f(x) = x.^2.0 .+ 2.11 .* x .+ 0.98  #notice the dots! \n",
    "f′(x) = 2.0 .* x .+ 2.11\n",
    "f′′(x) = 2.0 "
   ]
  },
  {
   "cell_type": "code",
   "execution_count": null,
   "metadata": {},
   "outputs": [],
   "source": [
    "newton(f,f′,f′′, 0.0,verbose=true)"
   ]
  },
  {
   "cell_type": "code",
   "execution_count": null,
   "metadata": {},
   "outputs": [],
   "source": [
    "\n",
    "# use Calculus.jl package to get them - finite differences\n",
    "# finite differences use the fact that the derivative is the limit of the difference quotient\n",
    "# f′(x) = lim_{h->0} (f(x+h) - f(x))/h\n",
    "# so we can approximate it with a small h\n",
    "\n",
    "f′(x) = derivative(f,x)\n",
    "f′′(x) = second_derivative(f,x)\n",
    "\n",
    "plot(f, -5, 5, label=\"f(x)\", legend=:topleft, title = \"our amazing function\")\n",
    "plot!(f′, -5, 5, label=\"f′(x)\", legend=:topleft)\n",
    "plot!(f′′, -5, 5, label=\"f′′(x)\", legend=:topleft)\n"
   ]
  },
  {
   "cell_type": "code",
   "execution_count": null,
   "metadata": {},
   "outputs": [],
   "source": [
    "# automatic differentiation - it is exact\n",
    "# ForwardDiff.jl package\n",
    "ForwardDiff.derivative(f,1) # first derivative at 1\n",
    "f′_AD(x) = ForwardDiff.derivative(f,x) # function that returns the derivative of f at x - note it takes f defined earlier\n",
    "\n"
   ]
  },
  {
   "cell_type": "code",
   "execution_count": null,
   "metadata": {},
   "outputs": [],
   "source": [
    "function newton_AD(f,x0; ε=10e-6, δ=10e-6, maxcounter = 100, verbose = false)\n",
    "    # this algorithm is from Judd (1988), page 98\n",
    "    f′(x)  = ForwardDiff.derivative(f,x)\n",
    "    f′′(x) = ForwardDiff.derivative(f′,x)\n",
    "\n",
    "    x_old = x0\n",
    "    x_new = 2*abs(x0) + 1\n",
    "    counter = 1\n",
    "    guesses = []\n",
    "\n",
    "    while ((abs(f′(x_old)) > δ) || (abs(x_new-x_old) > ε * (1+abs(x_old))))\n",
    "        guesses = push!(guesses,x_old)\n",
    "        if verbose\n",
    "            println(\"Iteration = $counter\")    \n",
    "            println(\"Point = $x_old\")    \n",
    "            println(\"Value = $(f(x_old))\")  \n",
    "            println(\"Derivative = $(f′(x_old))\")  \n",
    "            println(\"\")\n",
    "        end\n",
    "\n",
    "\n",
    "        if counter > maxcounter\n",
    "            println(\"Maximum number of iterations ($maxcounter) reached\")\n",
    "            break\n",
    "        end\n",
    "\n",
    "        counter += 1\n",
    "        x_old = x_new\n",
    "        x_new = x_old - f′(x_old)/f′′(x_old)\n",
    "        \n",
    "        \n",
    "    end\n",
    "\n",
    "    return (argmin = x_new, val = f(x_new), derivative  = f′(x_new), points = guesses, iteration = counter)\n",
    "    end"
   ]
  },
  {
   "cell_type": "code",
   "execution_count": null,
   "metadata": {},
   "outputs": [],
   "source": [
    "newton_AD(f, 0.0,verbose=true)"
   ]
  }
 ],
 "metadata": {
  "kernelspec": {
   "display_name": "Julia 1.9.3",
   "language": "julia",
   "name": "julia-1.9"
  },
  "language_info": {
   "file_extension": ".jl",
   "mimetype": "application/julia",
   "name": "julia",
   "version": "1.9.3"
  },
  "orig_nbformat": 4
 },
 "nbformat": 4,
 "nbformat_minor": 2
}
