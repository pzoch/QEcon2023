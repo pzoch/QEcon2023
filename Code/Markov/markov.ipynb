{
 "cells": [
  {
   "cell_type": "markdown",
   "metadata": {},
   "source": [
    "## Inventory dynamics\n",
    "\n",
    "Code from Sargent and Stachursky (2023) - https://github.com/QuantEcon/book-dp1"
   ]
  },
  {
   "cell_type": "code",
   "execution_count": null,
   "metadata": {},
   "outputs": [],
   "source": [
    "using Pkg\n",
    "Pkg.activate(\"..\") ## because we have environment files in the parent directory\n",
    "Pkg.instantiate() ## to download all missing packages\n"
   ]
  },
  {
   "cell_type": "code",
   "execution_count": null,
   "metadata": {},
   "outputs": [],
   "source": [
    "# load some packages we will need today\n",
    "using Distributions, QuantEcon, IterTools, Plots"
   ]
  },
  {
   "cell_type": "code",
   "execution_count": null,
   "metadata": {},
   "outputs": [],
   "source": [
    "\n",
    "function create_inventory_model(; S=100, # Order size\n",
    "    s=10, # Order threshold\n",
    "    p=0.4) # Demand parameter\n",
    "    ϕ = Geometric(p)\n",
    "    h(x, d) = max(x - d, 0) + S * (x <= s)\n",
    "    return (; S, s, ϕ, h)\n",
    "    end"
   ]
  },
  {
   "cell_type": "code",
   "execution_count": null,
   "metadata": {},
   "outputs": [],
   "source": [
    "function sim_inventories(model; ts_length=200)\n",
    "    (; S, s, ϕ, h) = model\n",
    "    X = Vector{Int32}(undef, ts_length)\n",
    "    X[1] = S # Initial condition\n",
    "    for t in 1:(ts_length-1)\n",
    "    X[t+1] = h(X[t], rand(ϕ))\n",
    "    end\n",
    "    return X\n",
    "    end"
   ]
  },
  {
   "cell_type": "code",
   "execution_count": null,
   "metadata": {},
   "outputs": [],
   "source": [
    "function compute_mc(model; d_max=100)\n",
    "    (; S, s, ϕ, h) = model\n",
    "    n = S + s + 1 # Size of state space\n",
    "    state_vals = collect(0:(S + s))\n",
    "    P = Matrix{Float64}(undef, n, n)\n",
    "    for (i, j) in product(1:n, 1:n)\n",
    "    P[i, j] = sum((h(i-1, d) == j-1) * pdf(ϕ, d) for d in 0:d_max)\n",
    "    end\n",
    "    return MarkovChain(P, state_vals)\n",
    "    end"
   ]
  },
  {
   "cell_type": "code",
   "execution_count": null,
   "metadata": {},
   "outputs": [],
   "source": [
    "\n",
    "function compute_stationary_dist(model)\n",
    "mc = compute_mc(model)\n",
    "return mc.state_values, stationary_distributions(mc)[1]\n",
    "end"
   ]
  },
  {
   "cell_type": "code",
   "execution_count": null,
   "metadata": {},
   "outputs": [],
   "source": [
    "model = create_inventory_model()\n",
    "sample_path = sim_inventories(model; ts_length=200)\n",
    "MChain = compute_mc(model)\n",
    "\n",
    "ψ = compute_stationary_dist(model)\n"
   ]
  },
  {
   "cell_type": "code",
   "execution_count": null,
   "metadata": {},
   "outputs": [],
   "source": [
    "plot(sample_path, label=false, legend=:topleft, xlabel=\"time\", ylabel=\"inventory\", title=\"Inventory Time Series\")"
   ]
  },
  {
   "cell_type": "code",
   "execution_count": null,
   "metadata": {},
   "outputs": [],
   "source": [
    "plot(ψ, label=false, legend=:topleft, xlabel=\"inventory\", ylabel=\"probability\", title=\"Stationary Distribution of Inventory Model\")"
   ]
  },
  {
   "cell_type": "code",
   "execution_count": null,
   "metadata": {},
   "outputs": [],
   "source": [
    "\n",
    "X = simulate(MChain, 100000, init = 1);\n",
    "plot(X, seriestype=:histogram, normed=true, label=false, legend=:topleft, xlabel=\"inventory\", ylabel=\"probability\", title=\"Histogram of Simulated Time Series\")"
   ]
  },
  {
   "cell_type": "code",
   "execution_count": null,
   "metadata": {},
   "outputs": [],
   "source": [
    "\n",
    "plot(X[1:100], label=false, legend=:topleft, xlabel=\"time\", ylabel=\"inventory\", title=\"Simulated Time Series\")"
   ]
  }
 ],
 "metadata": {
  "kernelspec": {
   "display_name": "Julia 1.9.3",
   "language": "julia",
   "name": "julia-1.9"
  },
  "language_info": {
   "file_extension": ".jl",
   "mimetype": "application/julia",
   "name": "julia",
   "version": "1.9.3"
  }
 },
 "nbformat": 4,
 "nbformat_minor": 2
}
