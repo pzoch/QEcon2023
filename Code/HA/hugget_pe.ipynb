{
 "cells": [
  {
   "cell_type": "code",
   "execution_count": null,
   "metadata": {},
   "outputs": [],
   "source": [
    "using Pkg\n",
    "Pkg.activate(\"..\") ## because we have environment files in the parent directory\n",
    "Pkg.instantiate() ## to download all missing packages"
   ]
  },
  {
   "cell_type": "code",
   "execution_count": null,
   "metadata": {},
   "outputs": [],
   "source": [
    "# load some packages we will need today\n",
    "using Distributions, QuantEcon, IterTools, Plots, Optim, Interpolations, LinearAlgebra, Inequality, Statistics, ColorSchemes,PrettyTables"
   ]
  },
  {
   "cell_type": "code",
   "execution_count": null,
   "metadata": {},
   "outputs": [],
   "source": [
    "\n",
    "function create_ha_block(; \n",
    "    ρ_z=0.96, # log of productivity persistence\n",
    "    ν_z=sqrt(0.025), # log of productivity volatility\n",
    "    γ = 2, # curvature parameter of utility function\n",
    "    u = γ == 1 ? x -> log(x) : x -> (x^(1 - γ) - 1) / (1 - γ), # utility function\n",
    "    ϕ = 0.0, # borrowing constraint\n",
    "    β= 0.98, # discount factor\n",
    "    N_z= 9, # grid size for Tauchen\n",
    "    mc_z = tauchen(N_z, ρ_z, ν_z, 0),\n",
    "    λ_z = stationary_distributions(mc_z)[1],\n",
    "    P_z = mc_z.p, # transition matrix\n",
    "    z_vec = exp.(mc_z.state_values) / sum(exp.(mc_z.state_values) .* λ_z)) # normalize so that mean is 1\n",
    "    return (; ρ_z, ν_z, γ,  u, ϕ, β, N_z, mc_z, z_vec, P_z , λ_z)\n",
    "    end"
   ]
  },
  {
   "cell_type": "code",
   "execution_count": null,
   "metadata": {},
   "outputs": [],
   "source": [
    "function create_grid(ha_block;N_a=70,a_max=40);\n",
    "    a_min = -ha_block.ϕ\n",
    "\n",
    "    a_vec= collect(range(a_min, a_max, length=N_a))\n",
    "    return (; a_vec, N_a, a_min, a_max)\n",
    "end"
   ]
  },
  {
   "cell_type": "code",
   "execution_count": null,
   "metadata": {},
   "outputs": [],
   "source": [
    "\n",
    "function getW!(W,V,a_vec,z_vec,P)\n",
    "    for (i, a′) in enumerate(a_vec)\n",
    "        for (j, z) in enumerate(z_vec)\n",
    "            W[i,j] = sum(P[j,j′] .* V[i,j′] for j′ in eachindex(z_vec))\n",
    "        end\n",
    "    end\n",
    "return W\n",
    "end\n",
    "\n",
    "function vfi(model,prices,grid;tol = 1e-6, maxiter = 2000)\n",
    "    (; ρ_z, ν_z, γ,  u, ϕ, β, N_z, mc_z, z_vec, P_z , λ_z) = model\n",
    "    (; a_vec, N_a, a_min, a_max) = grid\n",
    "    (; r, w) = prices\n",
    "    \n",
    "    V = zeros(N_a,N_z) # initialize value function\n",
    "    W = similar(V) # initialize W\n",
    "    σ_a′ = similar(V) # initialize policy function\n",
    "    σ_c = similar(V) # initialize policy function\n",
    "    \n",
    "    # get W\n",
    "    getW!(W,V,a_vec,z_vec,P_z)\n",
    "    error = 1 + tol\n",
    "    iter = 1;\n",
    "    while error > tol && iter < maxiter\n",
    "        V_new, (σ_a′,σ_c) = T_operator(W, model,prices, grid)\n",
    "        error = maximum(abs.(V_new .- V))\n",
    "        getW!(W,V_new,a_vec,z_vec,P_z)\n",
    "        V = V_new\n",
    "        \n",
    "        iter += 1\n",
    "    end\n",
    "    policies = (a′ = σ_a′, c= σ_c)\n",
    "\n",
    "    return V, policies, error, iter\n",
    "end\n",
    "\n",
    "\n",
    "function T_operator(W, model, prices, grid; tol = 1e-10)\n",
    "    \n",
    "    (; ρ_z, ν_z, γ,  u, ϕ, β, N_z, mc_z, z_vec, P_z , λ_z) = model\n",
    "    (; a_vec, N_a, a_min, a_max) = grid\n",
    "    (; r, w) = prices\n",
    "    W_hat = linear_interpolation((a_vec,z_vec),W,extrapolation_bc=Linear()) # linear interpolation of W\n",
    "\n",
    "    TW = similar(W)\n",
    "    σ_a′ = similar(W)\n",
    "    σ_c = similar(W)\n",
    "    for (i, a) in enumerate(a_vec)\n",
    "        for (j, z) in enumerate(z_vec)\n",
    "            # solve maximization for each point in (a,z), using a itself as initial condition.\n",
    "\n",
    "            results = optimize(a′ -> -u( (1+r)*a-a′+w*z) -\n",
    "                                    β * W_hat(a′,z), a_min, (1+r)*a+w*z,GoldenSection(),g_tol=1e-8)\n",
    "            TW[i,j] = -Optim.minimum(results)\n",
    "            σ_a′[i,j] = Optim.minimizer(results)\n",
    "            σ_c[i,j] = (1+r)*a + w*z - σ_a′[i,j]\n",
    "        end\n",
    "    end\n",
    "    policies = (a′ = σ_a′, c= σ_c)\n",
    "    return TW, policies \n",
    "end"
   ]
  },
  {
   "cell_type": "markdown",
   "metadata": {},
   "source": [
    "We solve for a stationary distribution for given prices"
   ]
  },
  {
   "cell_type": "code",
   "execution_count": null,
   "metadata": {},
   "outputs": [],
   "source": [
    "prices = (r = 0.005, w = 1.0)\n",
    "\n",
    "ha_block = create_ha_block()\n",
    "grid_a = create_grid(ha_block,a_max=100,N_a = 120)\n",
    "\n",
    "V, policies, error, iter = vfi(ha_block,prices,grid_a)\n"
   ]
  },
  {
   "cell_type": "code",
   "execution_count": null,
   "metadata": {},
   "outputs": [],
   "source": [
    "\n",
    "lines_scheme = [get(ColorSchemes.thermal,LinRange(0.0,1.0,ha_block.N_z));]\n",
    "\n"
   ]
  },
  {
   "cell_type": "code",
   "execution_count": null,
   "metadata": {},
   "outputs": [],
   "source": [
    "policy_plot = plot(xlabel = \"a\", ylabel = \"a′\", title = \"Policy function\")\n",
    "\n",
    "for j in 1:ha_block.N_z\n",
    "    plot!(grid_a.a_vec[1:20], policies.a′[1:20,j], label = false, color = lines_scheme[j], lw=3)\n",
    "end\n",
    "\n",
    "plot!(grid_a.a_vec[1:20], grid_a.a_vec[1:20], label = false, linestyle = :dash, color = :black)\n"
   ]
  },
  {
   "cell_type": "code",
   "execution_count": null,
   "metadata": {},
   "outputs": [],
   "source": [
    "value_plot = plot(xlabel = \"a\", ylabel = \"V\", title = \"Value function\")\n",
    "\n",
    "for j in 1:ha_block.N_z\n",
    "    plot!(grid_a.a_vec[1:20], V[1:20,j], label = false, color = lines_scheme[j], lw=3)\n",
    "end\n",
    "\n",
    "plot!(grid_a.a_vec[1:20],V[1:20], label = false, linestyle = :dash, color = :black)"
   ]
  },
  {
   "cell_type": "code",
   "execution_count": null,
   "metadata": {},
   "outputs": [],
   "source": [
    "\n",
    "# function from https://discourse.julialang.org/t/findnearest-function/4143/4\n",
    "function closest_index(a::Vector,x::Real)\n",
    "\n",
    "    if isempty(a) == true\n",
    "      error(\"xGrid is empty in function closest_index.\")\n",
    "    end\n",
    "\n",
    "    if isnan(x) == true\n",
    "      error(\"val is NaN in function closest_index.\")\n",
    "    end\n",
    "\n",
    "   idx = searchsortedfirst(a,x)\n",
    "   if (idx==1); return idx; end\n",
    "   if (idx>length(a)); return length(a); end\n",
    "   if (a[idx]==x); return idx; end\n",
    "   if (abs(a[idx]-x) < abs(a[idx-1]-x))\n",
    "      return idx\n",
    "   else\n",
    "      return idx-1\n",
    "   end\n",
    "end\n",
    "\n",
    "function closest_value_and_index(xGrid::Vector, val::Real)\n",
    "\n",
    "   # get index\n",
    "   ibest = closest_index(xGrid, val)\n",
    "\n",
    "   # Return best value on grid, and the corresponding index\n",
    "   return xGrid[ibest], ibest\n",
    "\n",
    "end"
   ]
  },
  {
   "cell_type": "code",
   "execution_count": null,
   "metadata": {},
   "outputs": [],
   "source": [
    "\n",
    "function get_q(w_grid,w) # code from https://julienpascal.github.io/post/young_2010/\n",
    "\n",
    "\n",
    "w_min = minimum(w_grid)\n",
    "w_max = maximum(w_grid)\n",
    "nW = length(w_grid)\n",
    "\n",
    "q = zeros(length(w_grid),length(w_grid))\n",
    "\n",
    "\n",
    "    for (wIndexTrue, w_temp) in enumerate(w_grid)\n",
    "\n",
    "\n",
    "        # Project true value on the grid:\n",
    "        (wValue_proj, wIndex_proj) = closest_value_and_index(w_grid, w[wIndexTrue])\n",
    "\n",
    "        # To store the location of the value below and above the true value:\n",
    "        wIndex_below = 0\n",
    "        wIndex_above = 0\n",
    "\n",
    "        # If the true value is above the projection\n",
    "        if w[wIndexTrue] >= wValue_proj\n",
    "            wIndex_below = wIndex_proj\n",
    "            wIndex_above = wIndex_proj + 1\n",
    "        # If the true value is below the projection\n",
    "        elseif w[wIndexTrue] < wValue_proj\n",
    "            wIndex_below = wIndex_proj -1\n",
    "            wIndex_above = wIndex_proj\n",
    "        end\n",
    "\n",
    "        # Boundary cases\n",
    "        if wIndex_proj == 1\n",
    "            wIndex_below = 1\n",
    "            wIndex_above = 2\n",
    "        elseif wIndex_proj == nW\n",
    "            wIndex_below = nW - 1\n",
    "            wIndex_above = nW\n",
    "        end\n",
    "\n",
    "        # Special case 1: w < w_min\n",
    "        if w[wIndexTrue] <= w_min\n",
    "            p = 1\n",
    "        elseif w[wIndexTrue] >= w_max\n",
    "        # Special case 2: w > w_max\n",
    "            p = 0\n",
    "        else\n",
    "            p = 1.0 - ((w[wIndexTrue] - w_grid[wIndex_below])/(w_grid[wIndex_above] - w_grid[wIndex_below]))\n",
    "            p = min(1.0, max(0.0, p))\n",
    "        end\n",
    "\n",
    "        p = 1.0 - ((w[wIndexTrue] - w_grid[wIndex_below])/(w_grid[wIndex_above] - w_grid[wIndex_below]))\n",
    "        p = min(1.0, max(0.0, p))\n",
    "\n",
    "    q[wIndexTrue, wIndex_below] = p\n",
    "    q[wIndexTrue, wIndex_above] = 1.0 - p\n",
    "end\n",
    "\n",
    "    return q\n",
    "end"
   ]
  },
  {
   "cell_type": "code",
   "execution_count": null,
   "metadata": {},
   "outputs": [],
   "source": [
    "\n",
    "function get_transition(model, policies, grid)\n",
    "    \n",
    "(; ρ_z, ν_z, γ,  u, ϕ, β, N_z, mc_z, z_vec, P_z , λ_z) = model\n",
    "(; a_vec, N_a, a_min, a_max) = grid\n",
    "\n",
    "Q = zeros(N_a * N_z,N_a * N_z)\n",
    "\n",
    "\n",
    "for (j, z) in enumerate(z_vec)\n",
    "        for (j′, z′) in enumerate(z_vec)\n",
    "                Q[(j-1)*N_a+1:j*N_a,(j′-1)*N_a+1:j′*N_a] = get_q(a_vec,policies.a′[:,j]) .* P_z[j,j′]\n",
    "        end\n",
    "end\n",
    "\n",
    "\n",
    "return Q\n",
    "end"
   ]
  },
  {
   "cell_type": "code",
   "execution_count": null,
   "metadata": {},
   "outputs": [],
   "source": [
    "function stationary_distribution_hh(model, policies, grid)\n",
    "\n",
    "    Q = get_transition(model, policies, grid)\n",
    "\n",
    "    N_a = grid.N_a\n",
    "    N_z = model.N_z    \n",
    "    z_vec = model.z_vec\n",
    "\n",
    "    λ_vector = (Q^10000)[1,:]\n",
    "    λ = zeros(N_a, N_z)\n",
    "\n",
    "    for (j, z) in enumerate(z_vec)\n",
    "        for (j, z′) in enumerate(z_vec)\n",
    "            λ[:,j] = λ_vector[(j-1)*N_a+1:j*N_a]\n",
    "        end\n",
    "    end\n",
    "\n",
    "    λ_a = sum(λ,dims=2)\n",
    "    λ_z = sum(λ,dims=1)'\n",
    "    return λ, λ_vector, λ_a, λ_z\n",
    "end"
   ]
  },
  {
   "cell_type": "code",
   "execution_count": null,
   "metadata": {},
   "outputs": [],
   "source": [
    "λ, λ_vector, λ_a, λ_z = stationary_distribution_hh(ha_block, policies, grid_a)\n",
    "\n"
   ]
  },
  {
   "cell_type": "code",
   "execution_count": null,
   "metadata": {},
   "outputs": [],
   "source": [
    "p1 = plot(grid_a.a_vec, λ_a, xlabel = \"a\", ylabel = \"λ(a)\",title = \"Assets\", legend = false)\n",
    "p2 = plot(ha_block.z_vec, λ_z, xlabel = \"z\", ylabel = \"λ(z)\", title = \"Productivity\",  legend = false)\n",
    "plot(p1,p2)\n"
   ]
  },
  {
   "cell_type": "code",
   "execution_count": null,
   "metadata": {},
   "outputs": [],
   "source": [
    "lorenz_a_pop,lorenz_a_share=lorenz_curve(grid_a.a_vec,vec(λ_a))\n",
    "plot(lorenz_a_pop,lorenz_a_share,xlabel=\"Cumulative share of population\",ylabel=\"Cumulative share of assets\",title=\"Lorenz curve\",legend=false)\n",
    "plot!(lorenz_a_pop,lorenz_a_pop,linestyle=:dash,color=:black)"
   ]
  },
  {
   "cell_type": "code",
   "execution_count": null,
   "metadata": {},
   "outputs": [],
   "source": [
    "function show_statistics_hugget(ha_block,grid,λ_a,λ_z)\n",
    "# warning - this can be misleading if we allow for negative values!\n",
    "lorenz_a_pop,lorenz_a_share=lorenz_curve(grid.a_vec,vec(λ_a))\n",
    "lorenz_z_pop,lorenz_z_share=lorenz_curve(ha_block.z_vec,vec(λ_z))\n",
    "\n",
    "\n",
    "\n",
    "lorenz_a = LinearInterpolation(lorenz_a_pop, lorenz_a_share);\n",
    "lorenz_z = LinearInterpolation(lorenz_z_pop, lorenz_z_share);\n",
    "\n",
    "\n",
    "header = ([\"\", \"Assets\", \"Income\"])\n",
    "\n",
    "data = [           \n",
    "                     \"Bottom 50% share\"         lorenz_a(0.5)        lorenz_z(0.5)    ;\n",
    "                     \"Top 10% share\"            1-lorenz_a(0.9)         1-lorenz_z(0.9)     ;\n",
    "                     \"Top 1% share\"             1-lorenz_a(0.99)        1-lorenz_z(0.99)    ;  \n",
    "                     \"Gini Coefficient\"      wgini(grid.a_vec,vec(max.(0,λ_a)))      wgini(ha_block.z_vec,vec(max.(0.0,λ_z)))    ;]\n",
    "\n",
    "return pretty_table(data;header=header,formatters=ft_printf(\"%5.3f\",2:3))\n",
    "end\n",
    "    \n"
   ]
  },
  {
   "cell_type": "code",
   "execution_count": null,
   "metadata": {},
   "outputs": [],
   "source": [
    "show_statistics_hugget(ha_block,grid_a,λ_a,λ_z)"
   ]
  },
  {
   "cell_type": "code",
   "execution_count": null,
   "metadata": {},
   "outputs": [],
   "source": [
    "function solve_hh_block(grid,model,prices)\n",
    "    V, policies, error, iter = vfi(model,prices,grid)\n",
    "    λ, λ_vector, λ_a, λ_z = stationary_distribution_hh(model, policies, grid)\n",
    "    A′ = sum(λ .* policies.a′)\n",
    "    C  = sum(λ .* policies.c)\n",
    "\n",
    "\n",
    "    return V, policies, error, iter, λ, λ_vector, λ_a, λ_z, A′, C\n",
    "end\n"
   ]
  },
  {
   "cell_type": "code",
   "execution_count": null,
   "metadata": {},
   "outputs": [],
   "source": [
    "V, policies, error, iter, λ, λ_vector, λ_a,λ_z, A′, C = solve_hh_block(grid_a,ha_block,prices)\n",
    "\n",
    "display(\"VFI error = $error in $iter iterations\")\n",
    "display(\"A′ = $A′\")\n",
    "display(\"C = $C\")"
   ]
  }
 ],
 "metadata": {
  "kernelspec": {
   "display_name": "Julia 1.9.3",
   "language": "julia",
   "name": "julia-1.9"
  },
  "language_info": {
   "file_extension": ".jl",
   "mimetype": "application/julia",
   "name": "julia",
   "version": "1.9.3"
  }
 },
 "nbformat": 4,
 "nbformat_minor": 2
}
