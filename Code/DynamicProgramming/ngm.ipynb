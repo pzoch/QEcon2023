{
 "cells": [
  {
   "cell_type": "code",
   "execution_count": 253,
   "metadata": {},
   "outputs": [
    {
     "name": "stderr",
     "output_type": "stream",
     "text": [
      "\u001b[32m\u001b[1m  Activating\u001b[22m\u001b[39m project at `c:\\Users\\piotr\\Dropbox\\WNE\\QuantEcon_all\\QEcon2023\\Code`\n"
     ]
    }
   ],
   "source": [
    "using Pkg\n",
    "Pkg.activate(\"..\") ## because we have environment files in the parent directory\n",
    "Pkg.instantiate() ## to download all missing packages\n"
   ]
  },
  {
   "cell_type": "code",
   "execution_count": 254,
   "metadata": {},
   "outputs": [],
   "source": [
    "# load some packages we will need today\n",
    "using Distributions, QuantEcon, IterTools, Plots, Optim, Interpolations"
   ]
  },
  {
   "cell_type": "code",
   "execution_count": 255,
   "metadata": {},
   "outputs": [
    {
     "data": {
      "text/plain": [
       "create_ngm_model (generic function with 1 method)"
      ]
     },
     "metadata": {},
     "output_type": "display_data"
    }
   ],
   "source": [
    "\n",
    "function create_ngm_model(; \n",
    "    ρ_z=0.75, # log of productivity persistence\n",
    "    ν_z=0.1, # log of productivity volatility\n",
    "    b_z=0, # log of productivity intercept\n",
    "    γ = 2, # curvature parameter of utility function\n",
    "    α = 0.3, # curvature parameter of production function \n",
    "    u = γ == 1 ? x -> log(x) : x -> (x^(1 - γ) - 1) / (1 - γ), # utility function\n",
    "    f = x -> x^ α, # production function\n",
    "    δ = 1, # depreciation rate\n",
    "    \n",
    "    F = (x, y) -> y * f(x) + (1 - δ) * x, # available resources\n",
    "    β=0.96, # discount factor\n",
    "    N_z=3) # grid size for Tauchen\n",
    "    mc_z = tauchen(N_z, ρ_z, ν_z, b_z)\n",
    "    z_vec = exp.(mc_z.state_values)\n",
    "    return (; ρ_z, ν_z, b_z, γ, α, u, f, F, δ, β, N_z, mc_z, z_vec)\n",
    "    end"
   ]
  },
  {
   "cell_type": "code",
   "execution_count": 256,
   "metadata": {},
   "outputs": [
    {
     "data": {
      "text/plain": [
       "create_grid (generic function with 1 method)"
      ]
     },
     "metadata": {},
     "output_type": "display_data"
    }
   ],
   "source": [
    "function create_grid();\n",
    "    N_k = 70\n",
    "    k_min = 0.1\n",
    "    k_max = 2\n",
    "    k_vec= collect(range(k_min, k_max, length=N_k))\n",
    "    return (; k_vec, N_k)\n",
    "end"
   ]
  },
  {
   "cell_type": "code",
   "execution_count": 257,
   "metadata": {},
   "outputs": [
    {
     "data": {
      "text/plain": [
       "T_operator (generic function with 1 method)"
      ]
     },
     "metadata": {},
     "output_type": "display_data"
    }
   ],
   "source": [
    "\n",
    "function getW!(W,V,k_vec,z_vec,P)\n",
    "    for (i, k′) in enumerate(k_vec)\n",
    "        for (j, z) in enumerate(z_vec)\n",
    "            W[i,j] = sum(P[j,j′] .* V[i,j′] for j′ in eachindex(z_vec))\n",
    "        end\n",
    "    end\n",
    "return W\n",
    "end\n",
    "\n",
    "function vfi(model,grid;tol = 1e-6, maxiter = 1000)\n",
    "    (; ρ_z, ν_z, b_z, γ, α, u, f, F, δ, β, N_z, mc_z, z_vec) = model\n",
    "    (; k_vec, N_k) = grid\n",
    "\n",
    "    P = mc_z.p # transition matrix\n",
    "    \n",
    "    V = zeros(N_k,N_z) # initialize value function\n",
    "    W = similar(V) # initialize W\n",
    "    σ = similar(V) # initialize policy function\n",
    "    \n",
    "    # get W\n",
    "    getW!(W,V,k_vec,z_vec,P)\n",
    "    error = 1 + tol\n",
    "    iter = 1;\n",
    "    while error > tol && iter < maxiter\n",
    "        V_new, σ = T_operator(W, model, grid)\n",
    "        error = maximum(abs.(V_new .- V))\n",
    "        getW!(W,V_new,k_vec,z_vec,P)\n",
    "        V = V_new\n",
    "        \n",
    "        iter += 1\n",
    "    end\n",
    "    return V, σ, error, iter\n",
    "end\n",
    "\n",
    "\n",
    "function T_operator(W, model, grid; tol = 1e-10)\n",
    "    \n",
    "    (; ρ_z, ν_z, b_z, γ, α, u, f, F, δ, β, N_z, mc_z, z_vec) = model # unpack parameters\n",
    "    (; k_vec, N_k) = grid\n",
    "\n",
    "    W_hat = linear_interpolation((k_vec,z_vec),W,extrapolation_bc=Linear()) # linear interpolation of W\n",
    "\n",
    "    TW = similar(W)\n",
    "    σ = similar(W)\n",
    "    for (i, k) in enumerate(k_vec)\n",
    "        for (j, z) in enumerate(z_vec)\n",
    "            # solve maximization for each point in (k,z), using k itself as initial condition.\n",
    "            results = maximize(k′ -> u(F(k,z)-k′) +\n",
    "                                    β * W_hat(k′,z),\n",
    "                                    1e-8, 0.5*F(k,z))\n",
    "            TW[i,j] = maximum(results)\n",
    "            σ[i,j] = Optim.maximizer(results)\n",
    "        end\n",
    "    end\n",
    "    return TW, σ \n",
    "end"
   ]
  },
  {
   "cell_type": "code",
   "execution_count": null,
   "metadata": {},
   "outputs": [],
   "source": [
    "\n",
    "\n",
    "model = create_ngm_model()\n",
    "grid = create_grid()\n",
    "\n",
    "V, σ, error, iter = vfi(model,grid)"
   ]
  },
  {
   "cell_type": "code",
   "execution_count": null,
   "metadata": {},
   "outputs": [],
   "source": [
    "plot(grid.k_vec, σ, label = [\"Low\" \"Medium\" \"High\"], xlabel = \"k\", ylabel = \"k'\", title = \"Policy function\", legend = :topleft)\n",
    "    plot!(grid.k_vec, grid.k_vec, label = false, linestyle = :dash, color = :black)"
   ]
  },
  {
   "cell_type": "code",
   "execution_count": null,
   "metadata": {},
   "outputs": [],
   "source": [
    "plot(grid.k_vec, V, label = [\"Low\" \"Medium\" \"High\"], xlabel = \"k\", ylabel = \"k'\", title = \"Value function\", legend = :topleft)"
   ]
  }
 ],
 "metadata": {
  "kernelspec": {
   "display_name": "Julia 1.9.3",
   "language": "julia",
   "name": "julia-1.9"
  },
  "language_info": {
   "file_extension": ".jl",
   "mimetype": "application/julia",
   "name": "julia",
   "version": "1.9.3"
  }
 },
 "nbformat": 4,
 "nbformat_minor": 2
}
