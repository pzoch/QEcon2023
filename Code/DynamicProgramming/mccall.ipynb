{
 "cells": [
  {
   "cell_type": "markdown",
   "metadata": {},
   "source": [
    "## McCall Job Search model\n",
    "\n",
    "Code based on Sargent and Stachursky (2023) - https://github.com/QuantEcon/book-dp1"
   ]
  },
  {
   "cell_type": "code",
   "execution_count": null,
   "metadata": {},
   "outputs": [],
   "source": [
    "using Pkg\n",
    "Pkg.activate(\"..\") ## because we have environment files in the parent directory\n",
    "Pkg.instantiate() ## to download all missing packages\n"
   ]
  },
  {
   "cell_type": "code",
   "execution_count": null,
   "metadata": {},
   "outputs": [],
   "source": [
    "# load some packages we will need today\n",
    "using Distributions, Plots"
   ]
  },
  {
   "cell_type": "code",
   "execution_count": null,
   "metadata": {},
   "outputs": [],
   "source": [
    "# create our model -- this function returns a tuple that holds all the model parameters\n",
    "\n",
    "function create_job_search_model(;\n",
    "    n=100, # wage grid size\n",
    "    w_min=10.0, # lowest wage\n",
    "    w_max=60.0, # highest wage\n",
    "    a=200, # wage distribution parameter\n",
    "    b=100, # wage distribution parameter\n",
    "    β=0.96, # discount factor\n",
    "    c=10.0 # unemployment compensation\n",
    "    )\n",
    "    w_vals = collect(LinRange(w_min, w_max, n+1))\n",
    "    ϕ = pdf(BetaBinomial(n, a, b))\n",
    "    az = 1\n",
    "    return (; n, w_vals, ϕ, β, c)\n",
    "end"
   ]
  },
  {
   "cell_type": "code",
   "execution_count": null,
   "metadata": {},
   "outputs": [],
   "source": [
    "my_model = create_job_search_model()"
   ]
  },
  {
   "cell_type": "markdown",
   "metadata": {},
   "source": [
    "### Approach I\n",
    "Find the continuation value $h^*$ directly. "
   ]
  },
  {
   "cell_type": "code",
   "execution_count": null,
   "metadata": {},
   "outputs": [],
   "source": [
    "get_h_new(h_old ;n, w_vals, ϕ, β, c) = c + β * sum(ϕ[i] * max(h_old,w_vals[i]/(1-β)) for i in 1:n)\n",
    "wrap_h_new(h_old) = get_h_new(h_old; my_model...)\n",
    "\n",
    "h_vec = LinRange(0, 2500, 100)\n",
    "plot(h_vec,wrap_h_new.(h_vec), label=\"h_new(h_old)\",linewidth=4,xlabel = \"h_old\",ylabel = \"h_new\")\n",
    "plot!(h_vec,h_vec, label=\"45 degree line\", linestyle=:dash,linewidth=2)"
   ]
  },
  {
   "cell_type": "code",
   "execution_count": null,
   "metadata": {},
   "outputs": [],
   "source": [
    "function get_h_1(model;tol=1e-8,maxiter=1000,h_init=model.c/(1-model.β)) # do it by hand\n",
    "    \n",
    "    (; n, w_vals, ϕ, β, c) = model # unpack the model parameters\n",
    "\n",
    "    h_old = Float64(h_init)\n",
    "    h_new = h_old\n",
    "    h_history = [h_old]\n",
    "    error = tol + 1.0 \n",
    "    iter = 1\n",
    "\n",
    "    while error > tol && iter < maxiter\n",
    "        h_new = get_h_new(h_old ;n, w_vals, ϕ, β, c) \n",
    "        error = abs(h_new - h_old) # think about this error criterion... why is it not great?\n",
    "        h_old = h_new\n",
    "        push!(h_history,h_old)\n",
    "        iter += 1\n",
    "    end\n",
    "\n",
    "    return h_new, iter, error, h_history\n",
    "end"
   ]
  },
  {
   "cell_type": "code",
   "execution_count": null,
   "metadata": {},
   "outputs": [],
   "source": [
    "h, iter, error, h_history = get_h_1(my_model)"
   ]
  },
  {
   "cell_type": "code",
   "execution_count": null,
   "metadata": {},
   "outputs": [],
   "source": [
    "function get_v_from_h(model,h) \n",
    "    \n",
    "    (; n, w_vals, ϕ, β, c) = model # unpack the model parameters\n",
    "    σ = w_vals ./ (1-β) .>= h # this is a vector of booleans\n",
    "    v = σ .* w_vals ./ (1-β) + (1 .- σ) .* h # this is a vector of floats\n",
    "    return v, σ \n",
    "end"
   ]
  },
  {
   "cell_type": "code",
   "execution_count": null,
   "metadata": {},
   "outputs": [],
   "source": [
    "v, σ = get_v_from_h(my_model,h)"
   ]
  },
  {
   "cell_type": "code",
   "execution_count": null,
   "metadata": {},
   "outputs": [],
   "source": [
    "plot_v = plot(my_model.w_vals,v, label=\"v(w)\",linewidth=4,xlabel = \"w\",ylabel = \"v\")\n",
    "plot_σ = plot(my_model.w_vals,σ, label=\"policy: 1 = accept wage\",xlabel = \"w\", linestyle=:dash,linewidth=2)\n",
    "\n",
    "plot(plot_v,plot_σ,layout=(1,2),legend=:topleft)"
   ]
  },
  {
   "cell_type": "code",
   "execution_count": null,
   "metadata": {},
   "outputs": [],
   "source": [
    "reservation_wage = my_model.w_vals[σ][1]"
   ]
  },
  {
   "cell_type": "code",
   "execution_count": null,
   "metadata": {},
   "outputs": [],
   "source": [
    "# study how reservation wage depends on unemployment compensation\n",
    "c_vec = LinRange(0, 60, 100)\n",
    "reservation_wage_vec = []\n",
    "for c in c_vec\n",
    "    my_model = create_job_search_model(;c=c)\n",
    "    h, iter, error, h_history = get_h_1(my_model)\n",
    "    v, σ = get_v_from_h(my_model,h)\n",
    "    push!(reservation_wage_vec,my_model.w_vals[σ][1])\n",
    "end"
   ]
  },
  {
   "cell_type": "code",
   "execution_count": null,
   "metadata": {},
   "outputs": [],
   "source": [
    "plot_reservation_wage = plot(c_vec,reservation_wage_vec, label=false,linewidth=4,xlabel = \"unemp. compensation\",ylabel = \"reservation wage\")"
   ]
  },
  {
   "cell_type": "markdown",
   "metadata": {},
   "source": [
    "### Approach II\n",
    "Dynamic programming"
   ]
  },
  {
   "cell_type": "code",
   "execution_count": null,
   "metadata": {},
   "outputs": [],
   "source": [
    "function T(v,model) # Bellman operator\n",
    "    (; n, w_vals, ϕ, β, c) = model # unpack the model parameters\n",
    "    return [max(w/(1-β) , c+β * v'ϕ) for w in w_vals]\n",
    "end\n",
    "\n",
    "function get_policy(v,model) # this will be used after finding the fixed point of T\n",
    "    (; n, w_vals, ϕ, β, c) = model # unpack the model parameters\n",
    "    return σ = [w/(1-β) >= c+β * v'ϕ for w in w_vals]\n",
    "end\n",
    "\n",
    "function vfi(model;maxiter=1000,tol=1e-8) # value function iteration\n",
    "    (; n, w_vals, ϕ, β, c) = model\n",
    "    v_init = w_vals/(1-β); error = tol + 1.0; iter = 1 #  initialize\n",
    "    v = v_init\n",
    "    v_history = [v_init]\n",
    "    while error > tol && iter < maxiter\n",
    "        v_new = T(v,model)\n",
    "        error = maximum(abs.(v_new - v)) \n",
    "        push!(v_history,v_new)\n",
    "        v = v_new\n",
    "        iter += 1\n",
    "    end\n",
    "    σ = get_policy(v, model)\n",
    "\n",
    "    return v, σ, iter, error, v_history\n",
    "end"
   ]
  },
  {
   "cell_type": "code",
   "execution_count": null,
   "metadata": {},
   "outputs": [],
   "source": [
    "my_model = create_job_search_model()\n",
    "v, σ, iter, error, v_history = vfi(my_model)\n",
    "plot_v = plot(my_model.w_vals,v, label=\"v(w)\",linewidth=4,xlabel = \"w\",ylabel = \"v\")\n",
    "plot_σ = plot(my_model.w_vals,σ, label=\"policy: 1 = accept wage\",xlabel = \"w\", linestyle=:dash,linewidth=2)\n",
    "plot(plot_v,plot_σ,layout=(1,2),legend=:topleft)"
   ]
  },
  {
   "cell_type": "code",
   "execution_count": null,
   "metadata": {},
   "outputs": [],
   "source": [
    "anim = @animate for i in 1:length(v_history)\n",
    "    plot(my_model.w_vals, v_history[i], label=\"iter = $i\", linewidth=4, xlabel=\"w\", ylabel=\"v\",ylim=(1-my_model.β)^(-1).*[minimum(my_model.w_vals), maximum(my_model.w_vals)])\n",
    "end\n",
    "\n",
    "gif(anim, \"v_history.gif\", fps = 5)\n"
   ]
  }
 ],
 "metadata": {
  "kernelspec": {
   "display_name": "Julia 1.9.3",
   "language": "julia",
   "name": "julia-1.9"
  },
  "language_info": {
   "file_extension": ".jl",
   "mimetype": "application/julia",
   "name": "julia",
   "version": "1.9.3"
  }
 },
 "nbformat": 4,
 "nbformat_minor": 2
}
